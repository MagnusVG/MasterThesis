{
 "cells": [
  {
   "cell_type": "code",
   "execution_count": 1,
   "metadata": {},
   "outputs": [
    {
     "name": "stdout",
     "output_type": "stream",
     "text": [
      "Jupyter environment detected. Enabling Open3D WebVisualizer.\n",
      "[Open3D INFO] WebRTC GUI backend enabled.\n",
      "[Open3D INFO] WebRTCWindowSystem: HTTP handshake server disabled.\n"
     ]
    }
   ],
   "source": [
    "import pandas as pd\n",
    "import numpy as np\n",
    "import open3d as o3d"
   ]
  },
  {
   "cell_type": "code",
   "execution_count": 2,
   "metadata": {},
   "outputs": [],
   "source": [
    "testing = np.load(\"../grids/points_256/random/train_data.npy\")"
   ]
  },
  {
   "cell_type": "code",
   "execution_count": 5,
   "metadata": {},
   "outputs": [
    {
     "data": {
      "text/plain": [
       "(135492, 256, 3)"
      ]
     },
     "execution_count": 5,
     "metadata": {},
     "output_type": "execute_result"
    }
   ],
   "source": [
    "testing[0:int(len(testing)*0.9),:,:].shape"
   ]
  },
  {
   "cell_type": "code",
   "execution_count": 8,
   "metadata": {},
   "outputs": [
    {
     "data": {
      "text/plain": [
       "(45163, 256, 3)"
      ]
     },
     "execution_count": 8,
     "metadata": {},
     "output_type": "execute_result"
    }
   ],
   "source": [
    "np.concatenate((testing[0:int(len(testing)*0.1),:,:], testing[0:int(len(testing)*0.2),:,:])).shape"
   ]
  },
  {
   "cell_type": "code",
   "execution_count": 8,
   "metadata": {},
   "outputs": [
    {
     "data": {
      "text/plain": [
       "array([[2. , 2. , 2. , 0.5]])"
      ]
     },
     "execution_count": 8,
     "metadata": {},
     "output_type": "execute_result"
    }
   ],
   "source": [
    "arr = np.array([[1, 1, 1, 0]])\n",
    "np.where(arr > 0.5, 2, 0.5)"
   ]
  },
  {
   "cell_type": "code",
   "execution_count": 2,
   "metadata": {},
   "outputs": [],
   "source": [
    "#felt1_NS = pd.read_csv(\"../../data/AllColumns/felt1_NS_points_ac.csv\")\n",
    "#felt1_EW = pd.read_csv(\"../../data/AllColumns/felt1_EW_points_ac.csv\")\n",
    "\n",
    "# felt2_NS = pd.read_csv(\"../../data/AllColumns/felt2_NS_points_ac.csv\")\n",
    "felt2_EW = pd.read_csv(\"../../data/AllColumns/felt2_EW_points_ac.csv\")"
   ]
  },
  {
   "cell_type": "code",
   "execution_count": 3,
   "metadata": {},
   "outputs": [],
   "source": [
    "felt2_EW = felt2_EW.drop([\"Date\", \"Time\", \"Filename\", \"THU\", \"TVU\"], axis=1)"
   ]
  },
  {
   "cell_type": "code",
   "execution_count": 4,
   "metadata": {},
   "outputs": [
    {
     "data": {
      "text/html": [
       "<div>\n",
       "<style scoped>\n",
       "    .dataframe tbody tr th:only-of-type {\n",
       "        vertical-align: middle;\n",
       "    }\n",
       "\n",
       "    .dataframe tbody tr th {\n",
       "        vertical-align: top;\n",
       "    }\n",
       "\n",
       "    .dataframe thead th {\n",
       "        text-align: right;\n",
       "    }\n",
       "</style>\n",
       "<table border=\"1\" class=\"dataframe\">\n",
       "  <thead>\n",
       "    <tr style=\"text-align: right;\">\n",
       "      <th></th>\n",
       "      <th>X</th>\n",
       "      <th>Y</th>\n",
       "      <th>Z</th>\n",
       "      <th>Longitude</th>\n",
       "      <th>Latitude</th>\n",
       "      <th>Quality</th>\n",
       "      <th>TravelTime</th>\n",
       "      <th>SVL</th>\n",
       "      <th>BearingAngle</th>\n",
       "      <th>TiltAngle</th>\n",
       "      <th>BeamNumber</th>\n",
       "      <th>ScanNumber</th>\n",
       "      <th>Accepted</th>\n",
       "    </tr>\n",
       "  </thead>\n",
       "  <tbody>\n",
       "    <tr>\n",
       "      <th>0</th>\n",
       "      <td>0.00</td>\n",
       "      <td>6.22</td>\n",
       "      <td>36.67</td>\n",
       "      <td>5.818626</td>\n",
       "      <td>58.979585</td>\n",
       "      <td>14</td>\n",
       "      <td>0.09</td>\n",
       "      <td>1471.5</td>\n",
       "      <td>-0.71</td>\n",
       "      <td>0.01</td>\n",
       "      <td>81</td>\n",
       "      <td>495</td>\n",
       "      <td>1</td>\n",
       "    </tr>\n",
       "    <tr>\n",
       "      <th>1</th>\n",
       "      <td>0.01</td>\n",
       "      <td>6.41</td>\n",
       "      <td>36.73</td>\n",
       "      <td>5.818626</td>\n",
       "      <td>58.979587</td>\n",
       "      <td>14</td>\n",
       "      <td>0.06</td>\n",
       "      <td>1471.5</td>\n",
       "      <td>0.24</td>\n",
       "      <td>0.01</td>\n",
       "      <td>215</td>\n",
       "      <td>380</td>\n",
       "      <td>1</td>\n",
       "    </tr>\n",
       "    <tr>\n",
       "      <th>2</th>\n",
       "      <td>0.02</td>\n",
       "      <td>6.69</td>\n",
       "      <td>36.49</td>\n",
       "      <td>5.818625</td>\n",
       "      <td>58.979590</td>\n",
       "      <td>14</td>\n",
       "      <td>0.06</td>\n",
       "      <td>1471.5</td>\n",
       "      <td>0.25</td>\n",
       "      <td>0.01</td>\n",
       "      <td>216</td>\n",
       "      <td>380</td>\n",
       "      <td>1</td>\n",
       "    </tr>\n",
       "    <tr>\n",
       "      <th>3</th>\n",
       "      <td>0.05</td>\n",
       "      <td>6.28</td>\n",
       "      <td>36.64</td>\n",
       "      <td>5.818626</td>\n",
       "      <td>58.979586</td>\n",
       "      <td>14</td>\n",
       "      <td>0.07</td>\n",
       "      <td>1471.7</td>\n",
       "      <td>0.30</td>\n",
       "      <td>0.01</td>\n",
       "      <td>265</td>\n",
       "      <td>83</td>\n",
       "      <td>1</td>\n",
       "    </tr>\n",
       "    <tr>\n",
       "      <th>4</th>\n",
       "      <td>0.10</td>\n",
       "      <td>6.26</td>\n",
       "      <td>36.59</td>\n",
       "      <td>5.818627</td>\n",
       "      <td>58.979586</td>\n",
       "      <td>142</td>\n",
       "      <td>0.06</td>\n",
       "      <td>1471.7</td>\n",
       "      <td>-0.15</td>\n",
       "      <td>0.00</td>\n",
       "      <td>187</td>\n",
       "      <td>70</td>\n",
       "      <td>1</td>\n",
       "    </tr>\n",
       "    <tr>\n",
       "      <th>...</th>\n",
       "      <td>...</td>\n",
       "      <td>...</td>\n",
       "      <td>...</td>\n",
       "      <td>...</td>\n",
       "      <td>...</td>\n",
       "      <td>...</td>\n",
       "      <td>...</td>\n",
       "      <td>...</td>\n",
       "      <td>...</td>\n",
       "      <td>...</td>\n",
       "      <td>...</td>\n",
       "      <td>...</td>\n",
       "      <td>...</td>\n",
       "    </tr>\n",
       "    <tr>\n",
       "      <th>1082808</th>\n",
       "      <td>144.78</td>\n",
       "      <td>114.37</td>\n",
       "      <td>28.34</td>\n",
       "      <td>5.821051</td>\n",
       "      <td>58.980617</td>\n",
       "      <td>142</td>\n",
       "      <td>0.05</td>\n",
       "      <td>1471.1</td>\n",
       "      <td>0.34</td>\n",
       "      <td>0.00</td>\n",
       "      <td>248</td>\n",
       "      <td>122</td>\n",
       "      <td>1</td>\n",
       "    </tr>\n",
       "    <tr>\n",
       "      <th>1082809</th>\n",
       "      <td>144.78</td>\n",
       "      <td>114.41</td>\n",
       "      <td>28.38</td>\n",
       "      <td>5.821051</td>\n",
       "      <td>58.980617</td>\n",
       "      <td>142</td>\n",
       "      <td>0.08</td>\n",
       "      <td>1471.2</td>\n",
       "      <td>0.86</td>\n",
       "      <td>0.01</td>\n",
       "      <td>334</td>\n",
       "      <td>99</td>\n",
       "      <td>1</td>\n",
       "    </tr>\n",
       "    <tr>\n",
       "      <th>1082810</th>\n",
       "      <td>144.79</td>\n",
       "      <td>114.64</td>\n",
       "      <td>28.40</td>\n",
       "      <td>5.821051</td>\n",
       "      <td>58.980619</td>\n",
       "      <td>142</td>\n",
       "      <td>0.05</td>\n",
       "      <td>1471.1</td>\n",
       "      <td>0.35</td>\n",
       "      <td>0.00</td>\n",
       "      <td>249</td>\n",
       "      <td>122</td>\n",
       "      <td>1</td>\n",
       "    </tr>\n",
       "    <tr>\n",
       "      <th>1082811</th>\n",
       "      <td>144.80</td>\n",
       "      <td>114.03</td>\n",
       "      <td>28.30</td>\n",
       "      <td>5.821052</td>\n",
       "      <td>58.980614</td>\n",
       "      <td>142</td>\n",
       "      <td>0.08</td>\n",
       "      <td>1471.2</td>\n",
       "      <td>0.86</td>\n",
       "      <td>0.01</td>\n",
       "      <td>333</td>\n",
       "      <td>99</td>\n",
       "      <td>1</td>\n",
       "    </tr>\n",
       "    <tr>\n",
       "      <th>1082812</th>\n",
       "      <td>144.81</td>\n",
       "      <td>113.77</td>\n",
       "      <td>28.32</td>\n",
       "      <td>5.821052</td>\n",
       "      <td>58.980612</td>\n",
       "      <td>142</td>\n",
       "      <td>0.07</td>\n",
       "      <td>1471.2</td>\n",
       "      <td>0.86</td>\n",
       "      <td>0.01</td>\n",
       "      <td>332</td>\n",
       "      <td>99</td>\n",
       "      <td>1</td>\n",
       "    </tr>\n",
       "  </tbody>\n",
       "</table>\n",
       "<p>1082813 rows × 13 columns</p>\n",
       "</div>"
      ],
      "text/plain": [
       "              X       Y      Z  Longitude   Latitude  Quality  TravelTime  \\\n",
       "0          0.00    6.22  36.67   5.818626  58.979585       14        0.09   \n",
       "1          0.01    6.41  36.73   5.818626  58.979587       14        0.06   \n",
       "2          0.02    6.69  36.49   5.818625  58.979590       14        0.06   \n",
       "3          0.05    6.28  36.64   5.818626  58.979586       14        0.07   \n",
       "4          0.10    6.26  36.59   5.818627  58.979586      142        0.06   \n",
       "...         ...     ...    ...        ...        ...      ...         ...   \n",
       "1082808  144.78  114.37  28.34   5.821051  58.980617      142        0.05   \n",
       "1082809  144.78  114.41  28.38   5.821051  58.980617      142        0.08   \n",
       "1082810  144.79  114.64  28.40   5.821051  58.980619      142        0.05   \n",
       "1082811  144.80  114.03  28.30   5.821052  58.980614      142        0.08   \n",
       "1082812  144.81  113.77  28.32   5.821052  58.980612      142        0.07   \n",
       "\n",
       "            SVL  BearingAngle  TiltAngle  BeamNumber  ScanNumber  Accepted  \n",
       "0        1471.5         -0.71       0.01          81         495         1  \n",
       "1        1471.5          0.24       0.01         215         380         1  \n",
       "2        1471.5          0.25       0.01         216         380         1  \n",
       "3        1471.7          0.30       0.01         265          83         1  \n",
       "4        1471.7         -0.15       0.00         187          70         1  \n",
       "...         ...           ...        ...         ...         ...       ...  \n",
       "1082808  1471.1          0.34       0.00         248         122         1  \n",
       "1082809  1471.2          0.86       0.01         334          99         1  \n",
       "1082810  1471.1          0.35       0.00         249         122         1  \n",
       "1082811  1471.2          0.86       0.01         333          99         1  \n",
       "1082812  1471.2          0.86       0.01         332          99         1  \n",
       "\n",
       "[1082813 rows x 13 columns]"
      ]
     },
     "execution_count": 4,
     "metadata": {},
     "output_type": "execute_result"
    }
   ],
   "source": [
    "felt2_EW"
   ]
  },
  {
   "cell_type": "code",
   "execution_count": 10,
   "metadata": {},
   "outputs": [],
   "source": [
    "felt2_EW.to_csv(\"../../data/AllColumns/felt2_EW_test_ac.csv\", index=False)"
   ]
  },
  {
   "cell_type": "code",
   "execution_count": 5,
   "metadata": {},
   "outputs": [],
   "source": [
    "felt2_EW = pd.read_csv(\"../../data/AllColumns/felt2_EW_test_ac.csv\") # Felt2_EW"
   ]
  },
  {
   "cell_type": "code",
   "execution_count": 3,
   "metadata": {},
   "outputs": [],
   "source": [
    "def area_of_dataframe(dataframe, x_start, x_last, y_start, y_last):\n",
    "    area_dataframe = dataframe[\n",
    "        (dataframe[\"X\"] >= x_start) &\n",
    "        (dataframe[\"X\"] < x_last) & \n",
    "        (dataframe[\"Y\"] >= y_start) & \n",
    "        (dataframe[\"Y\"] < y_last)\n",
    "    ]\n",
    "    return area_dataframe"
   ]
  },
  {
   "cell_type": "code",
   "execution_count": 4,
   "metadata": {},
   "outputs": [],
   "source": [
    "def visualize_area(data_area, voxel_size=0.02):\n",
    "    _x = np.array(data_area.X)\n",
    "    _y = np.array(data_area.Y)\n",
    "    _z = np.array(data_area.Z)\n",
    "\n",
    "    _red = np.array(np.zeros(len(data_area.X)))\n",
    "    _green = np.array(np.zeros(len(data_area.X)))\n",
    "    _blue = np.array(np.zeros(len(data_area.X)))\n",
    "\n",
    "    acceptance = np.array(data_area.Accepted)\n",
    "    for idx, val in enumerate(acceptance):\n",
    "        \n",
    "        if val > 0:\n",
    "            _green[idx] = 65535\n",
    "        else:\n",
    "            _red[idx] = 65535\n",
    "\n",
    "    pcd = o3d.geometry.PointCloud()\n",
    "\n",
    "    pcd.points = o3d.utility.Vector3dVector(np.vstack((_x, _y, _z)).transpose())\n",
    "    pcd.colors = o3d.utility.Vector3dVector(np.vstack((_red, _green, _blue)).transpose()/65535)\n",
    "\n",
    "    voxel_grid=o3d.geometry.VoxelGrid.create_from_point_cloud(pcd, voxel_size=voxel_size)\n",
    "\n",
    "    o3d.visualization.draw_geometries([voxel_grid])"
   ]
  },
  {
   "cell_type": "code",
   "execution_count": 8,
   "metadata": {},
   "outputs": [],
   "source": [
    "# Pick an area\n",
    "xMax = np.max(felt2_EW.X)\n",
    "yMax = np.max(felt2_EW.Y)\n",
    "left_side = area_of_dataframe(felt2_EW, xMax*0.5, xMax*1, yMax*0, yMax*1)\n",
    "right_side = area_of_dataframe(felt2_EW, xMax*0, xMax*0.5, yMax*0, yMax*1)"
   ]
  },
  {
   "cell_type": "code",
   "execution_count": 11,
   "metadata": {},
   "outputs": [
    {
     "data": {
      "text/plain": [
       "X                 42.661008\n",
       "Y                 56.677222\n",
       "Z                 13.131380\n",
       "Longitude          5.819325\n",
       "Latitude          58.980056\n",
       "Quality           14.070333\n",
       "TravelTime         0.041809\n",
       "SVL             1471.583609\n",
       "BearingAngle       0.012730\n",
       "TiltAngle          0.004411\n",
       "BeamNumber       196.694142\n",
       "ScanNumber       260.361705\n",
       "Accepted           0.993629\n",
       "dtype: float64"
      ]
     },
     "execution_count": 11,
     "metadata": {},
     "output_type": "execute_result"
    }
   ],
   "source": [
    "right_side.mean()"
   ]
  },
  {
   "cell_type": "code",
   "execution_count": 12,
   "metadata": {},
   "outputs": [
    {
     "data": {
      "text/plain": [
       "X                102.576143\n",
       "Y                 59.864370\n",
       "Z                 14.049811\n",
       "Longitude          5.820363\n",
       "Latitude          58.980110\n",
       "Quality           15.504065\n",
       "TravelTime         0.042292\n",
       "SVL             1471.479378\n",
       "BearingAngle       0.037582\n",
       "TiltAngle          0.004830\n",
       "BeamNumber       201.845910\n",
       "ScanNumber       279.613941\n",
       "Accepted           0.980384\n",
       "dtype: float64"
      ]
     },
     "execution_count": 12,
     "metadata": {},
     "output_type": "execute_result"
    }
   ],
   "source": [
    "left_side.mean()"
   ]
  },
  {
   "cell_type": "code",
   "execution_count": 9,
   "metadata": {},
   "outputs": [],
   "source": [
    "visualize_area(right_side, voxel_size=0.04)"
   ]
  }
 ],
 "metadata": {
  "kernelspec": {
   "display_name": "Python 3",
   "language": "python",
   "name": "python3"
  },
  "language_info": {
   "codemirror_mode": {
    "name": "ipython",
    "version": 3
   },
   "file_extension": ".py",
   "mimetype": "text/x-python",
   "name": "python",
   "nbconvert_exporter": "python",
   "pygments_lexer": "ipython3",
   "version": "3.9.6"
  },
  "orig_nbformat": 4
 },
 "nbformat": 4,
 "nbformat_minor": 2
}
