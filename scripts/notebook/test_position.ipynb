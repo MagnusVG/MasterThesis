{
 "cells": [
  {
   "cell_type": "code",
   "execution_count": 1,
   "metadata": {},
   "outputs": [
    {
     "name": "stdout",
     "output_type": "stream",
     "text": [
      "Jupyter environment detected. Enabling Open3D WebVisualizer.\n",
      "[Open3D INFO] WebRTC GUI backend enabled.\n",
      "[Open3D INFO] WebRTCWindowSystem: HTTP handshake server disabled.\n"
     ]
    }
   ],
   "source": [
    "import pandas as pd\n",
    "import numpy as np\n",
    "import torch\n",
    "import torch. nn as nn\n",
    "import torch.nn.functional as F\n",
    "from torch.utils.data import Dataset, DataLoader\n",
    "import open3d as o3d\n",
    "from sklearn.metrics import recall_score, accuracy_score, confusion_matrix, f1_score"
   ]
  },
  {
   "cell_type": "code",
   "execution_count": 20,
   "metadata": {},
   "outputs": [],
   "source": [
    "class MyDataset(Dataset):\n",
    "    def __init__(self, image, array, target, visual, cell_size, grid_size=1, balance_set=False):\n",
    "        self.image = image            \n",
    "        self.array = array\n",
    "        self.target = target\n",
    "        self.visual = visual # x, y, z \n",
    "        self.cell_size = cell_size\n",
    "        self.grid_size = grid_size\n",
    "\n",
    "        self.maxx, self.maxy, self.numz = self.image.shape # size of data-block\n",
    "\n",
    "        self.balance_set = balance_set\n",
    "\n",
    "        if balance_set:\n",
    "            self.positive = np.argwhere(self.target > 0.5)\n",
    "            self.negative = np.argwhere(self.target <= 0.5)\n",
    "\n",
    "    def __getitem__(self, idx):\n",
    "\n",
    "        index = idx\n",
    "\n",
    "        # Balance by alternating between random positive and negative sample\n",
    "        if self.balance_set:\n",
    "            if index % 2 == 0:\n",
    "                index = self.positive[np.random.randint(len(self.positive))][0]\n",
    "            else:\n",
    "                index = self.negative[np.random.randint(len(self.negative))][0]\n",
    "        \n",
    "        vals = self.array[index]        \n",
    "        x, y, z, quality = vals\n",
    "\n",
    "        # Create X vector\n",
    "        X = [quality, z] # Removed position from array, are they needed here?\n",
    "\n",
    "        # - cw, cy : find cell position based on x and y\n",
    "        cw = int(x / self.cell_size)\n",
    "        ch = int(y / self.cell_size)\n",
    "\n",
    "        # Create Y vector of desired size with default -1 values\n",
    "        Y = np.full((2*self.grid_size + 1, 2*self.grid_size + 1, 4), -1.)\n",
    "\n",
    "        # Prepare slicing parameters\n",
    "        fx0, fx1 = cw - self.grid_size, cw + self.grid_size + 1\n",
    "        fy0, fy1 = ch - self.grid_size, ch + self.grid_size + 1\n",
    "        tx0 = -fx0 if fx0 < 0 else 0\n",
    "        ty0 = -fy0 if fy0 < 0 else 0\n",
    "        tx1 = 2*self.grid_size + 1\n",
    "        ty1 = 2*self.grid_size + 1\n",
    "        fx0 = max(0, fx0)\n",
    "        fy0 = max(0, fy0)\n",
    "        if fx1 > self.maxx:\n",
    "            tx1 = (2*self.grid_size + 1) - (fx1 - self.maxx)\n",
    "        if fy1 > self.maxy:\n",
    "            ty1 = (2*self.grid_size + 1) - (fy1 - self.maxy)\n",
    "        fx1 = min(self.maxx, fx1)\n",
    "        fy1 = min(self.maxy, fy1)\n",
    "\n",
    "        # Slice Y vector\n",
    "        Y[tx0:tx1,ty0:ty1] = self.image[fx0:fx1, fy0:fy1]\n",
    "\n",
    "        # Reshape\n",
    "        Y = Y.reshape([4, self.grid_size*2+1, self.grid_size*2+1])\n",
    "\n",
    "        # Cast to 32 bit for GPU training\n",
    "        Y = np.float32(Y)\n",
    "        X = np.float32(np.array(X))\n",
    "        target = np.expand_dims(np.float32(self.target[index]),-1)\n",
    "\n",
    "        # Position for visualization\n",
    "        pos = self.visual[index]        \n",
    "        x, y, z = pos \n",
    "        position = np.float32(np.array([x, y, z]))\n",
    "\n",
    "        return {\"point\": X, \"grid\" : Y, \"target\" : target, \"position\": position}\n",
    "\n",
    "    def __len__(self):\n",
    "        l = int(len(self.target))\n",
    "        return int(l)\n",
    "\n",
    "class NeuralNetwork(nn.Module):\n",
    "    def __init__(self, input_dim):\n",
    "        super(NeuralNetwork, self).__init__()\n",
    "        self.layer_1 = nn.Linear(input_dim, int(input_dim*0.5))\n",
    "        self.layer_2 = nn.Linear(int(input_dim*0.5), int(input_dim*0.25))\n",
    "        self.layer_3 = nn.Linear(int(input_dim*0.25), 1)\n",
    "       \n",
    "    def forward(self, point, grid):\n",
    "        grid = torch.flatten(grid, 1) # Flatten the grid\n",
    "        x = torch.cat((point, grid), 1) # Combine with point\n",
    "\n",
    "        x = F.relu(self.layer_1(x))\n",
    "        x = F.relu(self.layer_2(x))\n",
    "        x = torch.sigmoid(self.layer_3(x))\n",
    "\n",
    "        return x\n",
    "    \n",
    "    def save(self, path):\n",
    "        torch.save(self.state_dict(), path)\n",
    "\n",
    "    def load(self, path):\n",
    "        self.load_state_dict(torch.load(path, map_location=torch.device(\"cpu\")))\n",
    "        self.eval()"
   ]
  },
  {
   "cell_type": "code",
   "execution_count": 5,
   "metadata": {},
   "outputs": [],
   "source": [
    "# Load data\n",
    "read_test = pd.read_csv(\"data/ac_felt2_test.csv\") # Felt2_EW\n",
    "test_grid = np.load(\"data/ac_felt2_c05_test.npy\") "
   ]
  },
  {
   "cell_type": "code",
   "execution_count": 21,
   "metadata": {},
   "outputs": [],
   "source": [
    "BATCH_SIZE = 512\n",
    "GRID_SIZE = 1\n",
    "CELL_SIZE = 0.5"
   ]
  },
  {
   "cell_type": "code",
   "execution_count": 22,
   "metadata": {},
   "outputs": [],
   "source": [
    "# Normalize\n",
    "data = read_test.copy()\n",
    "data[\"z\"] = (data.z - np.min(data.z)) / (np.max(data.z) - np.min(data.z))\n",
    "data[\"quality\"] = (data.quality - np.min(data.quality)) / (np.max(data.quality) - np.min(data.quality))\n",
    "\n",
    "test_data = np.asarray(data[[\"x\", \"y\", \"z\", \"quality\"]])\n",
    "test_labels = np.asarray(data[\"accepted\"])\n",
    "test_visualize = np.asarray(read_test[read_test.columns[0:3]])"
   ]
  },
  {
   "cell_type": "code",
   "execution_count": 23,
   "metadata": {},
   "outputs": [],
   "source": [
    "test_dataset = MyDataset(test_grid, test_data, test_labels, test_visualize, CELL_SIZE, GRID_SIZE)\n",
    "test_dataloader = DataLoader(dataset=test_dataset, batch_size=BATCH_SIZE)"
   ]
  },
  {
   "cell_type": "code",
   "execution_count": 25,
   "metadata": {},
   "outputs": [],
   "source": [
    "# Load model\n",
    "input_shape = (np.sum([8*i for i in range(GRID_SIZE+1)])*4) + 4 + 2\n",
    "model = NeuralNetwork(input_shape)\n",
    "model.load(\"models/grid_05/grid_size_1/model_dict_512_combination.pt\")"
   ]
  },
  {
   "cell_type": "code",
   "execution_count": 48,
   "metadata": {},
   "outputs": [],
   "source": [
    "model = ConvNeuralNetwork(GRID_SIZE)\n",
    "model.load(\"models/grid_01/grid_size_40/conv_model_dict_512_maxpool_es.pt\")"
   ]
  },
  {
   "attachments": {},
   "cell_type": "markdown",
   "metadata": {},
   "source": [
    "## Predict"
   ]
  },
  {
   "cell_type": "code",
   "execution_count": 26,
   "metadata": {},
   "outputs": [],
   "source": [
    "# Positions\n",
    "visualPoints = []\n",
    "\n",
    "# Validation\n",
    "actual = []\n",
    "predictions = []\n",
    "with torch.no_grad():\n",
    "    for test_data in test_dataloader:\n",
    "        point, grid, target, position = test_data[\"point\"], test_data[\"grid\"], test_data[\"target\"], test_data[\"position\"]\n",
    "\n",
    "        # Predict\n",
    "        pred = model(point, grid)\n",
    "        \n",
    "        # Store prediction\n",
    "        predictions.append(pred.numpy())\n",
    "\n",
    "        # Store actual \n",
    "        actual.append(target.numpy())\n",
    "\n",
    "        # Store positions\n",
    "        visualPoints.append(position.numpy())"
   ]
  },
  {
   "attachments": {},
   "cell_type": "markdown",
   "metadata": {},
   "source": [
    "## Evaluate"
   ]
  },
  {
   "cell_type": "code",
   "execution_count": 27,
   "metadata": {},
   "outputs": [],
   "source": [
    "def evaluate_result(predictions, actual, threshold):\n",
    "    preds = []\n",
    "    acts = []\n",
    "\n",
    "    for bx, batches in enumerate(predictions):\n",
    "        for by, batch in enumerate(batches):\n",
    "            if predictions[bx][by] > threshold:\n",
    "                preds.append(1)\n",
    "            else:\n",
    "                preds.append(0)\n",
    "\n",
    "            if actual[bx][by] > threshold:\n",
    "                acts.append(1)\n",
    "            else:\n",
    "                acts.append(0)\n",
    "\n",
    "    return preds, acts"
   ]
  },
  {
   "cell_type": "code",
   "execution_count": 28,
   "metadata": {},
   "outputs": [],
   "source": [
    "def get_scores(predictions, actual):\n",
    "    confusion = confusion_matrix(actual, predictions)\n",
    "    accuracy = accuracy_score(actual, predictions)\n",
    "    recall = recall_score(actual, predictions)\n",
    "    f1 = f1_score(actual, predictions)\n",
    "\n",
    "    print(\"Confusion matrix:\")\n",
    "    print(confusion)\n",
    "    print(\"\\n\")\n",
    "\n",
    "    print(\"Accuracy score:\")\n",
    "    print(accuracy)\n",
    "    print(\"\\n\")\n",
    "\n",
    "    print(\"Recall score:\")\n",
    "    print(recall)\n",
    "    print(\"\\n\")\n",
    "\n",
    "    print(\"F1 score:\")\n",
    "    print(f1)\n",
    "    print(\"\\n\")"
   ]
  },
  {
   "cell_type": "code",
   "execution_count": 29,
   "metadata": {},
   "outputs": [],
   "source": [
    "preds, acts = evaluate_result(predictions, actual, 0.5)"
   ]
  },
  {
   "cell_type": "code",
   "execution_count": 30,
   "metadata": {},
   "outputs": [
    {
     "name": "stdout",
     "output_type": "stream",
     "text": [
      "Confusion matrix:\n",
      "[[   9910    4250]\n",
      " [  56259 1012394]]\n",
      "\n",
      "\n",
      "Accuracy score:\n",
      "0.9441186982424481\n",
      "\n",
      "\n",
      "Recall score:\n",
      "0.9473552219476294\n",
      "\n",
      "\n",
      "F1 score:\n",
      "0.9709830302350217\n",
      "\n",
      "\n"
     ]
    }
   ],
   "source": [
    "get_scores(preds, acts)"
   ]
  },
  {
   "attachments": {},
   "cell_type": "markdown",
   "metadata": {},
   "source": [
    "## Visualize"
   ]
  },
  {
   "cell_type": "code",
   "execution_count": 31,
   "metadata": {},
   "outputs": [],
   "source": [
    "xyz_points = []\n",
    "for bx, batches in enumerate(visualPoints):\n",
    "    for by, batch in enumerate(batches):\n",
    "        xyz_points.append([visualPoints[bx][by][0], visualPoints[bx][by][1], visualPoints[bx][by][2]])"
   ]
  },
  {
   "cell_type": "code",
   "execution_count": 32,
   "metadata": {},
   "outputs": [],
   "source": [
    "visualize_df = pd.DataFrame(xyz_points, columns=[\"x\", \"y\", \"z\"])\n",
    "visualize_df[\"accepted\"] = preds"
   ]
  },
  {
   "cell_type": "code",
   "execution_count": 33,
   "metadata": {},
   "outputs": [],
   "source": [
    "def visualize_area(data_area, voxel_size=0.02):\n",
    "    _x = np.array(data_area.x)\n",
    "    _y = np.array(data_area.y)\n",
    "    _z = np.array(data_area.z)\n",
    "\n",
    "    _red = np.array(np.zeros(len(data_area.x)))\n",
    "    _green = np.array(np.zeros(len(data_area.x)))\n",
    "    _blue = np.array(np.zeros(len(data_area.x)))\n",
    "\n",
    "    acceptance = np.array(data_area.accepted)\n",
    "    for idx, val in enumerate(acceptance):\n",
    "        \n",
    "        if val > 0:\n",
    "            _green[idx] = 65535\n",
    "        else:\n",
    "            _red[idx] = 65535\n",
    "\n",
    "    pcd = o3d.geometry.PointCloud()\n",
    "\n",
    "    pcd.points = o3d.utility.Vector3dVector(np.vstack((_x, _y, _z)).transpose())\n",
    "    pcd.colors = o3d.utility.Vector3dVector(np.vstack((_red, _green, _blue)).transpose()/65535)\n",
    "\n",
    "    voxel_grid=o3d.geometry.VoxelGrid.create_from_point_cloud(pcd, voxel_size=voxel_size)\n",
    "\n",
    "    vis = o3d.visualization.Visualizer()\n",
    "    vis.create_window()\n",
    "    vis.add_geometry(voxel_grid)\n",
    "    ctr = vis.get_view_control()\n",
    "    parameters = o3d.io.read_pinhole_camera_parameters(\"aerial_angle.json\")\n",
    "    ctr.convert_from_pinhole_camera_parameters(parameters)\n",
    "    vis.run()\n",
    "    vis.destroy_window()\n",
    "\n",
    "    #o3d.visualization.draw_geometries([voxel_grid])"
   ]
  },
  {
   "cell_type": "code",
   "execution_count": 34,
   "metadata": {},
   "outputs": [
    {
     "name": "stdout",
     "output_type": "stream",
     "text": [
      "[Open3D WARNING] [ViewControl] ConvertFromPinholeCameraParameters() failed because window height and width do not match.\n"
     ]
    }
   ],
   "source": [
    "visualize_area(visualize_df, voxel_size=0.07)"
   ]
  },
  {
   "attachments": {},
   "cell_type": "markdown",
   "metadata": {},
   "source": [
    "## Tuning the threshold\n",
    "- https://machinelearningmastery.com/threshold-moving-for-imbalanced-classification/"
   ]
  },
  {
   "cell_type": "code",
   "execution_count": 35,
   "metadata": {},
   "outputs": [],
   "source": [
    "from sklearn.metrics import precision_recall_curve\n",
    "import matplotlib.pyplot as plt"
   ]
  },
  {
   "cell_type": "code",
   "execution_count": 36,
   "metadata": {},
   "outputs": [],
   "source": [
    "preds = []\n",
    "acts = []\n",
    "\n",
    "for bx, batches in enumerate(predictions):\n",
    "    for by, batch in enumerate(batches):\n",
    "        preds.append(predictions[bx][by])\n",
    "        \n",
    "        if actual[bx][by] >= 0.5:\n",
    "            acts.append(1)\n",
    "        else:\n",
    "            acts.append(0)"
   ]
  },
  {
   "cell_type": "code",
   "execution_count": 37,
   "metadata": {},
   "outputs": [],
   "source": [
    "precision, recall, thresholds = precision_recall_curve(acts, preds)"
   ]
  },
  {
   "cell_type": "code",
   "execution_count": 38,
   "metadata": {},
   "outputs": [
    {
     "name": "stdout",
     "output_type": "stream",
     "text": [
      "Best threshold: 0.004573429934680462\n"
     ]
    }
   ],
   "source": [
    "intersection_index = 0\n",
    "for idx, val in enumerate(recall):\n",
    "    if recall[idx] == precision[idx]:\n",
    "        intersection_index = idx\n",
    "        break\n",
    "print(f\"Best threshold: {thresholds[intersection_index]}\")"
   ]
  },
  {
   "cell_type": "code",
   "execution_count": 39,
   "metadata": {},
   "outputs": [
    {
     "data": {
      "image/png": "[encoded data removed]",
      "text/plain": [
       "<Figure size 720x576 with 1 Axes>"
      ]
     },
     "metadata": {
      "needs_background": "light"
     },
     "output_type": "display_data"
    }
   ],
   "source": [
    "# Using recall and precision at thresholds to find the middle ground for both\n",
    "plt.figure(figsize=(10, 8))\n",
    "plt.plot(thresholds, precision[0:-1], label=\"Precision\")\n",
    "plt.plot(thresholds, recall[0:-1], label=\"Recall\")\n",
    "plt.scatter(thresholds[intersection_index], precision[intersection_index], marker='o', color='black', label='Best')\n",
    "plt.xlabel('Thresholds')\n",
    "plt.ylabel('Score')\n",
    "plt.legend()\n",
    "plt.title(\"Precision and recall at thresholds\", fontsize=14)\n",
    "plt.show()"
   ]
  },
  {
   "cell_type": "code",
   "execution_count": 26,
   "metadata": {},
   "outputs": [
    {
     "data": {
      "image/png": "[encoded data removed]",
      "text/plain": [
       "<Figure size 1440x504 with 2 Axes>"
      ]
     },
     "metadata": {
      "needs_background": "light"
     },
     "output_type": "display_data"
    }
   ],
   "source": [
    "fig, (ax1, ax2) = plt.subplots(1, 2, figsize=(20, 7))\n",
    "\n",
    "ax1.plot(thresholds, precision[0:-1], label=\"Precision\")\n",
    "ax1.plot(thresholds, recall[0:-1], label=\"Recall\")\n",
    "ax1.set_xlabel('Thresholds')\n",
    "ax1.set_ylabel('Score')\n",
    "ax1.legend()\n",
    "ax1.set_title(\"Precision and recall at thresholds\", fontsize=14)\n",
    "\n",
    "half = int(len(precision)/10)\n",
    "ax2.plot(thresholds[0:half], precision[0:half], label=\"Precision\")\n",
    "ax2.plot(thresholds[0:half], recall[0:half], label=\"Recall\")\n",
    "ax2.scatter(thresholds[intersection_index], precision[intersection_index], marker='o', color='black', label='Best')\n",
    "ax2.set_xlabel('Thresholds')\n",
    "ax2.set_ylabel('Score')\n",
    "ax2.legend()\n",
    "ax2.set_title(\"Zoomed in at intersection\", fontsize=14)\n",
    "\n",
    "plt.show()"
   ]
  },
  {
   "cell_type": "code",
   "execution_count": 40,
   "metadata": {},
   "outputs": [],
   "source": [
    "preds, acts = evaluate_result(predictions, actual, thresholds[intersection_index])"
   ]
  },
  {
   "cell_type": "code",
   "execution_count": 43,
   "metadata": {},
   "outputs": [],
   "source": [
    "preds, acts = evaluate_result(predictions, actual, 0.1)"
   ]
  },
  {
   "cell_type": "code",
   "execution_count": 44,
   "metadata": {},
   "outputs": [
    {
     "name": "stdout",
     "output_type": "stream",
     "text": [
      "Confusion matrix:\n",
      "[[   6922    7238]\n",
      " [  32239 1036414]]\n",
      "\n",
      "\n",
      "Accuracy score:\n",
      "0.9635421813369437\n",
      "\n",
      "\n",
      "Recall score:\n",
      "0.9698321157569388\n",
      "\n",
      "\n",
      "F1 score:\n",
      "0.9813109375776699\n",
      "\n",
      "\n"
     ]
    }
   ],
   "source": [
    "get_scores(preds, acts)"
   ]
  },
  {
   "cell_type": "code",
   "execution_count": 45,
   "metadata": {},
   "outputs": [],
   "source": [
    "visualize_df = pd.DataFrame(xyz_points, columns=[\"x\", \"y\", \"z\"])\n",
    "visualize_df[\"accepted\"] = preds"
   ]
  },
  {
   "cell_type": "code",
   "execution_count": 46,
   "metadata": {},
   "outputs": [
    {
     "name": "stdout",
     "output_type": "stream",
     "text": [
      "[Open3D WARNING] [ViewControl] ConvertFromPinholeCameraParameters() failed because window height and width do not match.\n"
     ]
    }
   ],
   "source": [
    "visualize_area(visualize_df, voxel_size=0.05)"
   ]
  }
 ],
 "metadata": {
  "kernelspec": {
   "display_name": "Python 3",
   "language": "python",
   "name": "python3"
  },
  "language_info": {
   "codemirror_mode": {
    "name": "ipython",
    "version": 3
   },
   "file_extension": ".py",
   "mimetype": "text/x-python",
   "name": "python",
   "nbconvert_exporter": "python",
   "pygments_lexer": "ipython3",
   "version": "3.9.6"
  },
  "orig_nbformat": 4
 },
 "nbformat": 4,
 "nbformat_minor": 2
}
